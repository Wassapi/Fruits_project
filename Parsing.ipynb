{
 "cells": [
  {
   "cell_type": "code",
   "execution_count": 20,
   "metadata": {},
   "outputs": [],
   "source": [
    "import os\n",
    "from PIL import Image"
   ]
  },
  {
   "cell_type": "code",
   "execution_count": 29,
   "metadata": {},
   "outputs": [],
   "source": [
    "listname = []\n",
    "oswalk = os.walk('train_images')\n",
    "for root,dirs,files in oswalk:\n",
    "    if len(dirs) !=0:\n",
    "        continue\n",
    "    for name in files:\n",
    "        listname.append(os.path.join(root, name))"
   ]
  },
  {
   "cell_type": "code",
   "execution_count": null,
   "metadata": {},
   "outputs": [],
   "source": []
  },
  {
   "cell_type": "code",
   "execution_count": null,
   "metadata": {},
   "outputs": [],
   "source": [
    "class Fruits(Dataset):\n",
    "    def __init__(self, folder, transform = None, production = False):\n",
    "        self.transform = transform\n",
    "        self.folder = folder\n",
    "        self.listname = []\n",
    "        oswalk = os.walk(folder)\n",
    "        for root,dirs,files in oswalk:\n",
    "            if len(dirs) !=0:\n",
    "                continue\n",
    "            for name in files:\n",
    "                self.listname.append(os.path.join(root, name))\n",
    "        self.production = production\n",
    "        \n",
    "    def __len__(self):\n",
    "        return len(self.listname)\n",
    "    \n",
    "    def __getitem__(self, index):        \n",
    "        img_id = None\n",
    "        img_id = os.listdir(self.folder)[index]\n",
    "        img = Image.open(img_id)"
   ]
  }
 ],
 "metadata": {
  "kernelspec": {
   "display_name": "Python 3",
   "language": "python",
   "name": "python3"
  },
  "language_info": {
   "codemirror_mode": {
    "name": "ipython",
    "version": 3
   },
   "file_extension": ".py",
   "mimetype": "text/x-python",
   "name": "python",
   "nbconvert_exporter": "python",
   "pygments_lexer": "ipython3",
   "version": "3.7.4"
  }
 },
 "nbformat": 4,
 "nbformat_minor": 2
}
